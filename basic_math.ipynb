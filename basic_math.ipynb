{
 "cells": [
  {
   "cell_type": "code",
   "execution_count": 107,
   "metadata": {
    "collapsed": false
   },
   "outputs": [
    {
     "name": "stdout",
     "output_type": "stream",
     "text": [
      "Write numbers seperated by comma 323\n"
     ]
    }
   ],
   "source": [
    "# Average function\n",
    "# This function calulates the average of all inputs.\n",
    "# in order for this function to work properly 'division' module\n",
    "# from 'future' package is needed\n",
    "                      \n",
    "from __future__ import division\n",
    "\n",
    "a = raw_input(\"Write numbers seperated by comma \")\n",
    "\n",
    "def avg(*a):\n",
    "    \n",
    "    if len(a) == 1:\n",
    "        return a[0]\n",
    "    \n",
    "    else:\n",
    "        return (a[-1] + avg(*a[:-1])*(len(a)-1))/(len(a))"
   ]
  },
  {
   "cell_type": "code",
   "execution_count": 108,
   "metadata": {
    "collapsed": false
   },
   "outputs": [
    {
     "data": {
      "text/plain": [
       "5.0"
      ]
     },
     "execution_count": 108,
     "metadata": {},
     "output_type": "execute_result"
    }
   ],
   "source": [
    "avg(1,2,3,4,5,6,7,8,9)"
   ]
  },
  {
   "cell_type": "code",
   "execution_count": 109,
   "metadata": {
    "collapsed": false
   },
   "outputs": [
    {
     "name": "stdout",
     "output_type": "stream",
     "text": [
      "Write numbers seperated by comma followed by the number of occurences as the last input! wewe\n"
     ]
    }
   ],
   "source": [
    "# Average function with number of occurences as the last input.\n",
    "# This function calculates the average of last arguments (the last one not included)\n",
    "# which number is equal to the last argument.\n",
    "\n",
    "a = raw_input(\"Write numbers seperated by comma followed by the number of occurences as the last input! \")\n",
    "\n",
    "def avgocc(*a):\n",
    "    \n",
    "    if len(a)<2:\n",
    "        return \"ERROR, at least 2 inputs needed!\"\n",
    "    \n",
    "    elif a[-1]==1:\n",
    "        return a[-2]\n",
    "    \n",
    "    elif a[-1]>1 and len(a[:-1])<a[-1]:\n",
    "        return \"ERROR, number of occurences must not exceed number of arguments!\"\n",
    "    \n",
    "    elif a[-1]>1 and len(a[:-1])>=a[-1]:\n",
    "        return float(avg(*a[-(a[-1]+1):-1]))\n",
    "    \n",
    "    else:\n",
    "        return \"ERROR, last argument must be >0!\""
   ]
  },
  {
   "cell_type": "code",
   "execution_count": 110,
   "metadata": {
    "collapsed": false,
    "scrolled": true
   },
   "outputs": [
    {
     "data": {
      "text/plain": [
       "-8"
      ]
     },
     "execution_count": 110,
     "metadata": {},
     "output_type": "execute_result"
    }
   ],
   "source": [
    "avgocc(2,5,5,-8,1)"
   ]
  },
  {
   "cell_type": "code",
   "execution_count": 111,
   "metadata": {
    "collapsed": false
   },
   "outputs": [],
   "source": [
    "# This function generates a random number beetween 1 and 100 and ouputs the number and \n",
    "# \"Win\", \"Loss\" or \"Draw\". For 100 it outputs \"Draw\", for numbers less or equal to 50 \n",
    "# it ouputs \"Loss\", for the rest of numbers, it outputs \"Win\".\n",
    "# For this code to work properly random package is needed.\n",
    "\n",
    "import random as r\n",
    "\n",
    "def casino(*a):\n",
    "    \n",
    "    x=r.randint(1,100)\n",
    "    \n",
    "    if x==100:\n",
    "        r.seed()\n",
    "        return  str(x)+\" \"+\"Draw\"\n",
    "    \n",
    "    elif x<=50:\n",
    "        r.seed()\n",
    "        return  str(x)+\" \"+\"Loss\"\n",
    "    \n",
    "    else:\n",
    "        r.seed()\n",
    "        return  str(x)+\" \"+\"Win\""
   ]
  },
  {
   "cell_type": "code",
   "execution_count": 112,
   "metadata": {
    "collapsed": false
   },
   "outputs": [
    {
     "data": {
      "text/plain": [
       "'38 Loss'"
      ]
     },
     "execution_count": 112,
     "metadata": {},
     "output_type": "execute_result"
    }
   ],
   "source": [
    "casino()"
   ]
  },
  {
   "cell_type": "code",
   "execution_count": 1,
   "metadata": {
    "collapsed": false
   },
   "outputs": [
    {
     "name": "stdout",
     "output_type": "stream",
     "text": [
      "Requirement already satisfied: pandas_datareader in d:\\python\\anaconda\\lib\\site-packages\n",
      "Requirement already satisfied: pandas>=0.17.0 in d:\\python\\anaconda\\lib\\site-packages (from pandas_datareader)\n",
      "Requirement already satisfied: requests>=2.3.0 in d:\\python\\anaconda\\lib\\site-packages (from pandas_datareader)\n",
      "Requirement already satisfied: requests-file in d:\\python\\anaconda\\lib\\site-packages (from pandas_datareader)\n",
      "Requirement already satisfied: requests-ftp in d:\\python\\anaconda\\lib\\site-packages (from pandas_datareader)\n",
      "Requirement already satisfied: python-dateutil in d:\\python\\anaconda\\lib\\site-packages (from pandas>=0.17.0->pandas_datareader)\n",
      "Requirement already satisfied: pytz>=2011k in d:\\python\\anaconda\\lib\\site-packages (from pandas>=0.17.0->pandas_datareader)\n",
      "Requirement already satisfied: numpy>=1.7.0 in d:\\python\\anaconda\\lib\\site-packages (from pandas>=0.17.0->pandas_datareader)\n",
      "Requirement already satisfied: six in d:\\python\\anaconda\\lib\\site-packages (from requests-file->pandas_datareader)\n"
     ]
    }
   ],
   "source": [
    "# no need to run this row, if datareader is already installed.\n",
    "!pip install pandas_datareader"
   ]
  },
  {
   "cell_type": "code",
   "execution_count": 113,
   "metadata": {
    "collapsed": false
   },
   "outputs": [
    {
     "name": "stdout",
     "output_type": "stream",
     "text": [
      "Date\n",
      "2010-01-04    30.62\n",
      "2010-01-05    30.85\n",
      "2010-01-06    30.88\n",
      "2010-01-07    30.63\n",
      "2010-01-08    30.28\n",
      "2010-01-11    30.71\n",
      "2010-01-12    30.15\n",
      "Name: Open, dtype: float64\n",
      "Date\n",
      "2011-06-22    190.00\n",
      "2011-06-23    211.00\n",
      "2011-06-24    225.00\n",
      "2011-06-27    238.60\n",
      "2011-06-28    239.25\n",
      "2011-06-29    217.00\n",
      "2011-06-30    220.00\n",
      "Name: Open, dtype: float64\n",
      "Date\n",
      "2010-01-04    17.99\n",
      "2010-01-05    18.31\n",
      "2010-01-06    18.61\n",
      "2010-01-07    17.91\n",
      "2010-01-08    18.18\n",
      "2010-01-11    18.47\n",
      "2010-01-12    16.74\n",
      "Name: Open, dtype: float64\n"
     ]
    }
   ],
   "source": [
    "# Downloading some stocks from Google finance and printing the Open prices of last 7 days.\n",
    "# For this code to work properly pandas_datareader package is needed.\n",
    "\n",
    "import pandas_datareader as pdr\n",
    "\n",
    "data = [pdr.DataReader(\"MSFT\",\"google\"),pdr.DataReader(\"UBI\",\"google\"),pdr.DataReader(\"EA\",\"google\")]\n",
    "for i in data:\n",
    "    print i[\"Open\"].head(7)"
   ]
  },
  {
   "cell_type": "code",
   "execution_count": 114,
   "metadata": {
    "collapsed": false
   },
   "outputs": [
    {
     "data": {
      "image/png": "[encoded data removed]",
      "text/plain": [
       "<matplotlib.figure.Figure at 0xad19710>"
      ]
     },
     "metadata": {},
     "output_type": "display_data"
    },
    {
     "data": {
      "image/png": "[encoded data removed]",
      "text/plain": [
       "<matplotlib.figure.Figure at 0xb7c7668>"
      ]
     },
     "metadata": {},
     "output_type": "display_data"
    },
    {
     "data": {
      "image/png": "[encoded data removed]",
      "text/plain": [
       "<matplotlib.figure.Figure at 0xa75fac8>"
      ]
     },
     "metadata": {},
     "output_type": "display_data"
    }
   ],
   "source": [
    "# Downloading some stocks from Google finance and ploting the Open prices (different span of time for each stock).\n",
    "# For this code to work properly matplotlib.pyplot package is needed.\n",
    "\n",
    "import matplotlib.pyplot as plt\n",
    "\n",
    "data = [pdr.DataReader(\"MSFT\",\"google\"),pdr.DataReader(\"UBI\",\"google\"),pdr.DataReader(\"EA\",\"google\")]\n",
    "for i in data:\n",
    "    plt.plot(i[\"Open\"])\n",
    "    plt.show()"
   ]
  },
  {
   "cell_type": "code",
   "execution_count": null,
   "metadata": {
    "collapsed": true
   },
   "outputs": [],
   "source": []
  }
 ],
 "metadata": {
  "kernelspec": {
   "display_name": "Python 2",
   "language": "python",
   "name": "python2"
  },
  "language_info": {
   "codemirror_mode": {
    "name": "ipython",
    "version": 2
   },
   "file_extension": ".py",
   "mimetype": "text/x-python",
   "name": "python",
   "nbconvert_exporter": "python",
   "pygments_lexer": "ipython2",
   "version": "2.7.13"
  }
 },
 "nbformat": 4,
 "nbformat_minor": 2
}
